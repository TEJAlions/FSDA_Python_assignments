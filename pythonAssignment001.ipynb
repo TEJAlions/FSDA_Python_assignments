{
  "nbformat": 4,
  "nbformat_minor": 0,
  "metadata": {
    "colab": {
      "provenance": [],
      "collapsed_sections": [],
      "authorship_tag": "ABX9TyN70R0hNiYsj64/nQHxEkqR",
      "include_colab_link": true
    },
    "kernelspec": {
      "name": "python3",
      "display_name": "Python 3"
    },
    "language_info": {
      "name": "python"
    }
  },
  "cells": [
    {
      "cell_type": "markdown",
      "metadata": {
        "id": "view-in-github",
        "colab_type": "text"
      },
      "source": [
        "<a href=\"https://colab.research.google.com/github/TEJAlions/FSDA_Python_assignments/blob/main/pythonAssignment001.ipynb\" target=\"_parent\"><img src=\"https://colab.research.google.com/assets/colab-badge.svg\" alt=\"Open In Colab\"/></a>"
      ]
    },
    {
      "cell_type": "markdown",
      "source": [
        "# Assignments - 001\n",
        "## Question 1: Find out all the types of error that we have encountered in our lecture and why? Also include the examples."
      ],
      "metadata": {
        "id": "k_Iip7ljIijK"
      }
    },
    {
      "cell_type": "markdown",
      "source": [
        "- Name undefined error: This Error will come when we use a name which is neither a keyword nor a user defined name like variable or class or function. When pytho interpretor  didnt find a name used in the progran is not exist in the file or in python librairaes then it will throw this Error."
      ],
      "metadata": {
        "id": "Ceu8rf5jI0pZ"
      }
    },
    {
      "cell_type": "markdown",
      "source": [
        "Example 1"
      ],
      "metadata": {
        "id": "H8rp-dgBJeX1"
      }
    },
    {
      "cell_type": "code",
      "source": [
        "print(value)\n",
        "# Here value is used but it is never definced or it is a keyword"
      ],
      "metadata": {
        "colab": {
          "base_uri": "https://localhost:8080/",
          "height": 165
        },
        "id": "D5biWe72JiJQ",
        "outputId": "ed8f02f4-a14a-46ce-f782-ac6d7b589b67"
      },
      "execution_count": 2,
      "outputs": [
        {
          "output_type": "error",
          "ename": "NameError",
          "evalue": "ignored",
          "traceback": [
            "\u001b[0;31m---------------------------------------------------------------------------\u001b[0m",
            "\u001b[0;31mNameError\u001b[0m                                 Traceback (most recent call last)",
            "\u001b[0;32m<ipython-input-2-a458d288e6eb>\u001b[0m in \u001b[0;36m<module>\u001b[0;34m\u001b[0m\n\u001b[0;32m----> 1\u001b[0;31m \u001b[0mprint\u001b[0m\u001b[0;34m(\u001b[0m\u001b[0mvalue\u001b[0m\u001b[0;34m)\u001b[0m\u001b[0;34m\u001b[0m\u001b[0;34m\u001b[0m\u001b[0m\n\u001b[0m",
            "\u001b[0;31mNameError\u001b[0m: name 'value' is not defined"
          ]
        }
      ]
    },
    {
      "cell_type": "markdown",
      "source": [
        "Example 2"
      ],
      "metadata": {
        "id": "TM-6EqnUKTYW"
      }
    },
    {
      "cell_type": "code",
      "source": [
        "val = 23;\n",
        "print(Val);\n",
        "# Here 'val' is defined as variable but 'Val' is used to print Since python is type sensitive Hence 'Val' is considered as not defined"
      ],
      "metadata": {
        "colab": {
          "base_uri": "https://localhost:8080/",
          "height": 183
        },
        "id": "fEb6TWheJqW1",
        "outputId": "68631efb-4631-4b87-a21a-2be9438962ff"
      },
      "execution_count": 4,
      "outputs": [
        {
          "output_type": "error",
          "ename": "NameError",
          "evalue": "ignored",
          "traceback": [
            "\u001b[0;31m---------------------------------------------------------------------------\u001b[0m",
            "\u001b[0;31mNameError\u001b[0m                                 Traceback (most recent call last)",
            "\u001b[0;32m<ipython-input-4-a25d928f15d7>\u001b[0m in \u001b[0;36m<module>\u001b[0;34m\u001b[0m\n\u001b[1;32m      1\u001b[0m \u001b[0mval\u001b[0m \u001b[0;34m=\u001b[0m \u001b[0;36m23\u001b[0m\u001b[0;34m;\u001b[0m\u001b[0;34m\u001b[0m\u001b[0;34m\u001b[0m\u001b[0m\n\u001b[0;32m----> 2\u001b[0;31m \u001b[0mprint\u001b[0m\u001b[0;34m(\u001b[0m\u001b[0mVal\u001b[0m\u001b[0;34m)\u001b[0m\u001b[0;34m;\u001b[0m\u001b[0;34m\u001b[0m\u001b[0;34m\u001b[0m\u001b[0m\n\u001b[0m",
            "\u001b[0;31mNameError\u001b[0m: name 'Val' is not defined"
          ]
        }
      ]
    },
    {
      "cell_type": "markdown",
      "source": [
        "- object is not callable error: This error will come when we try to re-define the predefined functions or keyword and try to use it for different purpose."
      ],
      "metadata": {
        "id": "tE3jpWAiKX0t"
      }
    },
    {
      "cell_type": "code",
      "source": [
        "int = 34\n",
        "print(int)\n",
        "# As we defined int as varaible and assigned 34 in it we can able to print int value as 34\n",
        "print(int('32'))\n",
        "#  Here we used 'int' keyworad as variable to store data. But in print statement we tried to typecast string to int using int() function so python throws that object is not callable error"
      ],
      "metadata": {
        "colab": {
          "base_uri": "https://localhost:8080/",
          "height": 235
        },
        "id": "cpUNQmpmJ4Cg",
        "outputId": "443d4c3b-3940-45a9-df92-5adf7bccb857"
      },
      "execution_count": 8,
      "outputs": [
        {
          "output_type": "stream",
          "name": "stdout",
          "text": [
            "34\n"
          ]
        },
        {
          "output_type": "error",
          "ename": "TypeError",
          "evalue": "ignored",
          "traceback": [
            "\u001b[0;31m---------------------------------------------------------------------------\u001b[0m",
            "\u001b[0;31mTypeError\u001b[0m                                 Traceback (most recent call last)",
            "\u001b[0;32m<ipython-input-8-ce1591d6a6c0>\u001b[0m in \u001b[0;36m<module>\u001b[0;34m\u001b[0m\n\u001b[1;32m      2\u001b[0m \u001b[0mprint\u001b[0m\u001b[0;34m(\u001b[0m\u001b[0mint\u001b[0m\u001b[0;34m)\u001b[0m\u001b[0;34m\u001b[0m\u001b[0;34m\u001b[0m\u001b[0m\n\u001b[1;32m      3\u001b[0m \u001b[0;31m# As we defined int as varaible and assigned 34 in it we can able to print int value as 34\u001b[0m\u001b[0;34m\u001b[0m\u001b[0;34m\u001b[0m\u001b[0;34m\u001b[0m\u001b[0m\n\u001b[0;32m----> 4\u001b[0;31m \u001b[0mprint\u001b[0m\u001b[0;34m(\u001b[0m\u001b[0mint\u001b[0m\u001b[0;34m(\u001b[0m\u001b[0;34m'32'\u001b[0m\u001b[0;34m)\u001b[0m\u001b[0;34m)\u001b[0m\u001b[0;34m\u001b[0m\u001b[0;34m\u001b[0m\u001b[0m\n\u001b[0m\u001b[1;32m      5\u001b[0m \u001b[0;31m#  Here we used 'int' keyworad as variable to store data. But in print statement we tried to typecast string to int using int() function so python throws that object is not callable error\u001b[0m\u001b[0;34m\u001b[0m\u001b[0;34m\u001b[0m\u001b[0;34m\u001b[0m\u001b[0m\n",
            "\u001b[0;31mTypeError\u001b[0m: 'int' object is not callable"
          ]
        }
      ]
    },
    {
      "cell_type": "code",
      "source": [
        "# for removing int variable declared by us \n",
        "del int"
      ],
      "metadata": {
        "id": "6HEkJKQHRLEd"
      },
      "execution_count": 21,
      "outputs": []
    },
    {
      "cell_type": "markdown",
      "source": [
        "- invalid syntax error: Python gives this error whenever we do not follow python exact syntax. Syntax errors can be lime invalid variable/function/class defnition or incorrect usage of predefined functions"
      ],
      "metadata": {
        "id": "rOh-hYiYLkyN"
      }
    },
    {
      "cell_type": "markdown",
      "source": [
        "Example 1"
      ],
      "metadata": {
        "id": "rwuvMEuqMJSR"
      }
    },
    {
      "cell_type": "code",
      "source": [
        "1var = 34\n",
        "# incorrect variable declaration"
      ],
      "metadata": {
        "colab": {
          "base_uri": "https://localhost:8080/",
          "height": 130
        },
        "id": "N9fsB8gqK0Xc",
        "outputId": "4679ff89-161f-460f-b476-e0f67fc39a33"
      },
      "execution_count": 9,
      "outputs": [
        {
          "output_type": "error",
          "ename": "SyntaxError",
          "evalue": "ignored",
          "traceback": [
            "\u001b[0;36m  File \u001b[0;32m\"<ipython-input-9-388f34080b0c>\"\u001b[0;36m, line \u001b[0;32m1\u001b[0m\n\u001b[0;31m    1var = 34\u001b[0m\n\u001b[0m       ^\u001b[0m\n\u001b[0;31mSyntaxError\u001b[0m\u001b[0;31m:\u001b[0m invalid syntax\n"
          ]
        }
      ]
    },
    {
      "cell_type": "markdown",
      "source": [
        "Example 2"
      ],
      "metadata": {
        "id": "RPJzkDV2MM1V"
      }
    },
    {
      "cell_type": "code",
      "source": [
        "if 2>0:\n",
        "  print('grater')\n",
        "else\n",
        "  print('lower')\n",
        "\n",
        "# incorrect usage of else condition"
      ],
      "metadata": {
        "colab": {
          "base_uri": "https://localhost:8080/",
          "height": 130
        },
        "id": "GzmNHnaDMDTe",
        "outputId": "707ef105-0f61-48bc-9b95-2c563067755a"
      },
      "execution_count": 12,
      "outputs": [
        {
          "output_type": "error",
          "ename": "SyntaxError",
          "evalue": "ignored",
          "traceback": [
            "\u001b[0;36m  File \u001b[0;32m\"<ipython-input-12-2bae6772ad01>\"\u001b[0;36m, line \u001b[0;32m3\u001b[0m\n\u001b[0;31m    else\u001b[0m\n\u001b[0m        ^\u001b[0m\n\u001b[0;31mSyntaxError\u001b[0m\u001b[0;31m:\u001b[0m invalid syntax\n"
          ]
        }
      ]
    },
    {
      "cell_type": "markdown",
      "source": [
        "## Question 2: Take input A and B and print their sum, mul, div, square of the nos."
      ],
      "metadata": {
        "id": "_T7RYaxTMpwh"
      }
    },
    {
      "cell_type": "code",
      "source": [
        "A = float(input(\"Enter value A \"))\n",
        "B = float(input(\"Enter value B\" ))\n",
        "\n",
        "print(\"Sum of A and B is \", A+B)\n",
        "print(\"Mul of A and B is \", A*B)\n",
        "print(\"A divided by B is \", A/B)\n",
        "print(\"A to power of B is \", A**B)\n",
        "\n"
      ],
      "metadata": {
        "colab": {
          "base_uri": "https://localhost:8080/"
        },
        "id": "QhHoqrjXMWYs",
        "outputId": "ac34ba1b-810d-4d9a-c51a-3e7f436ed42c"
      },
      "execution_count": 14,
      "outputs": [
        {
          "output_type": "stream",
          "name": "stdout",
          "text": [
            "Enter value A 3\n",
            "Enter value B4\n",
            "Sum of A and B is  7.0\n",
            "Mul of A and B is  12.0\n",
            "A divided by B is  0.75\n",
            "A to power of B is  81.0\n"
          ]
        }
      ]
    },
    {
      "cell_type": "markdown",
      "source": [
        "## Question 3: How many reserve keywords are there in python and why we should not use them as a variable name."
      ],
      "metadata": {
        "id": "mkNKEOU-Nzgk"
      }
    },
    {
      "cell_type": "markdown",
      "source": [
        "ans: There are 33 keywords exist in python as of today. We can use those keywords in our program as a variable but it will change the original function meant for it by python. we we try to reuse the changed keyword as its original, as we override its original function python doesnt recognise its original meaning so it tries to convert use the function which we overrieds but they both are not same so python gives error.\n",
        "\n",
        "We should never overrides predefined keywords unless we know what we are doing.\n",
        "\n",
        "- False \n",
        "- def\n",
        "- if\n",
        "- raise\n",
        "- None\n",
        "- del\n",
        "- import\n",
        "- return\n",
        "- True\n",
        "- elif\n",
        "- in\n",
        "- try\n",
        "- and\n",
        "- else\n",
        "- is\n",
        "- while\n",
        "- as\n",
        "- except\n",
        "- lambda\n",
        "- with\n",
        "- assert\n",
        "- finally\n",
        "- nonlocal\n",
        "- yield\n",
        "- break\n",
        "- for\n",
        "- not\t\n",
        "- class\n",
        "- from\n",
        "- or\t\n",
        "- continue\n",
        "- global\n",
        "- pass"
      ],
      "metadata": {
        "id": "eAyvQ-gyN4YQ"
      }
    },
    {
      "cell_type": "markdown",
      "source": [
        "## Question 4: Create email ids with the user inputs. in the following format - lastname.firstname@gmail.com\n"
      ],
      "metadata": {
        "id": "0haStQknO1Yb"
      }
    },
    {
      "cell_type": "code",
      "source": [
        "firstName = input(\"Enter First name of user \")\n",
        "lastName = input(\"Enter Last name of user \")\n",
        "domain = \"mymail\"\n",
        "\n",
        "userEmail = lastName+\".\"+firstName+\"@\"+domain+\".com\"\n",
        "\n",
        "print(\"email of the user is \"+userEmail)"
      ],
      "metadata": {
        "colab": {
          "base_uri": "https://localhost:8080/"
        },
        "id": "zpy59RGjNAhM",
        "outputId": "6fdc2d0a-1946-4d97-9b01-7504910bf08a"
      },
      "execution_count": 15,
      "outputs": [
        {
          "output_type": "stream",
          "name": "stdout",
          "text": [
            "Enter First name of user teja\n",
            "Enter Last name of user pellure\n",
            "email of the user is pellure.teja@mymail.com\n"
          ]
        }
      ]
    },
    {
      "cell_type": "markdown",
      "source": [
        "## Question 5: Try to print the following lines -\n",
        "- Hi I'm Sunny\n",
        "- My address is 22\\3\n",
        "- I earn 20$ daily."
      ],
      "metadata": {
        "id": "jY_vx9rfPlmO"
      }
    },
    {
      "cell_type": "code",
      "source": [
        "print(\"Hi I'm Sunny\")\n",
        "print(\"My address is 22\\\\3\")\n",
        "print(\"I earn 20$ daily\")"
      ],
      "metadata": {
        "colab": {
          "base_uri": "https://localhost:8080/"
        },
        "id": "5pFOZ3bnPe01",
        "outputId": "f9eb170f-c45d-4a67-8fca-67db5b47f351"
      },
      "execution_count": 17,
      "outputs": [
        {
          "output_type": "stream",
          "name": "stdout",
          "text": [
            "Hi I'm Sunny\n",
            "My address is 22\\3\n",
            "I earn 20$ daily\n"
          ]
        }
      ]
    },
    {
      "cell_type": "markdown",
      "source": [
        "## Question 6: Take user input (name, address, date of birth etc) to fill a form for your college and print their email IDs"
      ],
      "metadata": {
        "id": "Vwjq4BDdQPpw"
      }
    },
    {
      "cell_type": "code",
      "source": [
        "name = input(\"Enter Name \")\n",
        "address = input(\"Enter Address \")\n",
        "dob = input(\"Enter Date of brith\")\n",
        "email = name+\"@\"+\"primaryshool.com\"\n",
        "print(f\"email of {name} is {email}\")"
      ],
      "metadata": {
        "colab": {
          "base_uri": "https://localhost:8080/"
        },
        "id": "jU9Zdw08P9_r",
        "outputId": "7f4e89b4-5e32-447d-ea3e-9df285ba1b2a"
      },
      "execution_count": 19,
      "outputs": [
        {
          "output_type": "stream",
          "name": "stdout",
          "text": [
            "Enter Name teja\n",
            "Enter Address my village near my town my state\n",
            "Enter Date of brith01010101\n",
            "email of teja is teja@primaryshool.com\n"
          ]
        }
      ]
    },
    {
      "cell_type": "markdown",
      "source": [
        "## Question 7: Convert the following -\n",
        "- \"22.4\" into integer\n",
        "- \"22\" into complex no."
      ],
      "metadata": {
        "id": "wB3YRN1pQ0Q1"
      }
    },
    {
      "cell_type": "code",
      "source": [
        "val1 = \"22.4\"\n",
        "val1Int = int(float(val1))\n",
        "print(val1Int)\n",
        "\n",
        "val2 = \"22\"\n",
        "val2comp = complex(val2)\n",
        "print(val2comp)"
      ],
      "metadata": {
        "colab": {
          "base_uri": "https://localhost:8080/"
        },
        "id": "kxtYSxsFPxN1",
        "outputId": "dc24369d-7da5-4560-c77a-d5370541dd45"
      },
      "execution_count": 31,
      "outputs": [
        {
          "output_type": "stream",
          "name": "stdout",
          "text": [
            "22\n",
            "(22+0j)\n"
          ]
        }
      ]
    }
  ]
}