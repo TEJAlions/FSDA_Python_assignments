{
  "nbformat": 4,
  "nbformat_minor": 0,
  "metadata": {
    "colab": {
      "provenance": [],
      "authorship_tag": "ABX9TyN/94MhbItgNxJ18l0mlX+N",
      "include_colab_link": true
    },
    "kernelspec": {
      "name": "python3",
      "display_name": "Python 3"
    },
    "language_info": {
      "name": "python"
    }
  },
  "cells": [
    {
      "cell_type": "markdown",
      "metadata": {
        "id": "view-in-github",
        "colab_type": "text"
      },
      "source": [
        "<a href=\"https://colab.research.google.com/github/TEJAlions/FSDA_Python_assignments/blob/main/pythonAssignment003.ipynb\" target=\"_parent\"><img src=\"https://colab.research.google.com/assets/colab-badge.svg\" alt=\"Open In Colab\"/></a>"
      ]
    },
    {
      "cell_type": "markdown",
      "source": [],
      "metadata": {
        "id": "wR3wd_16Ab9I"
      }
    },
    {
      "cell_type": "markdown",
      "source": [
        "Python String Manipulation\n",
        "\n",
        "1. Count the number of times iNeuron appears \n",
        "\n",
        "text = \"Welcome to iNeuron, You are a part of FSDS Bootcamp 2 in iNeuron. I hope you are enjoying the course by iNeuron\""
      ],
      "metadata": {
        "id": "GgMCG6JJBBbW"
      }
    },
    {
      "cell_type": "code",
      "source": [
        "text = \"Welcome to iNeuron, You are a part of FSDS Bootcamp 2 in iNeuron. I hope you are enjoying the course by iNeuron\"\n",
        "\n",
        "print(text.count(\"iNeuron\"))"
      ],
      "metadata": {
        "colab": {
          "base_uri": "https://localhost:8080/"
        },
        "id": "tQvRlEShAtIy",
        "outputId": "3610c9f1-515e-46b1-c101-53c59fdb11b1"
      },
      "execution_count": 42,
      "outputs": [
        {
          "output_type": "stream",
          "name": "stdout",
          "text": [
            "3\n"
          ]
        }
      ]
    },
    {
      "cell_type": "markdown",
      "source": [
        "2. Check if position 5 to 11 ends with the phrase iNeuron. in the string\n",
        "\n",
        "txt = \"Hello, welcome to FSDS 2.0 at iNeuron.\""
      ],
      "metadata": {
        "id": "6uiWWtpIBRm0"
      }
    },
    {
      "cell_type": "code",
      "source": [
        "text = \"Hello, welcome to FSDS 2.0 at iNeuron.\"\n",
        "print(f\"Is ends with the phrase 'iNeuron? '{text[5:12]=='iNeuron'}\")"
      ],
      "metadata": {
        "colab": {
          "base_uri": "https://localhost:8080/"
        },
        "id": "CFfLRy7BA96j",
        "outputId": "818924f6-3f59-4b70-f78c-77a65b47abfb"
      },
      "execution_count": 39,
      "outputs": [
        {
          "output_type": "stream",
          "name": "stdout",
          "text": [
            "Is ends with the phrase 'iNeuron? 'False\n"
          ]
        }
      ]
    },
    {
      "cell_type": "markdown",
      "source": [
        "3. Write a program that takes your full name as input and displays the abbreviations of the first and middle names except the last name which is displayed as it is. For example, if your name is Sunny Bhaveen Chandra, then the output should be S.B.Chandra.\n",
        "\n"
      ],
      "metadata": {
        "id": "qATvzuBcBox0"
      }
    },
    {
      "cell_type": "code",
      "source": [
        "Sur_name= input(\"Enter Your Sur Name:-\")\n",
        "First_name= input(\"Enter Your First Name:-\")\n",
        "Last_name= input(\"Enter Your Last Name:-\")\n",
        "\n",
        "print(f\"{Sur_name[0]}.{First_name[0]}.{Last_name}\")"
      ],
      "metadata": {
        "colab": {
          "base_uri": "https://localhost:8080/"
        },
        "id": "AuTZKT7yBwjE",
        "outputId": "77d393c0-619d-45be-99b1-ae9b2b29c989"
      },
      "execution_count": 40,
      "outputs": [
        {
          "output_type": "stream",
          "name": "stdout",
          "text": [
            "Enter Your Sur Name:-Adam\n",
            "Enter Your First Name:-krish\n",
            "Enter Your Last Name:-albert\n",
            "A.k.albert\n"
          ]
        }
      ]
    },
    {
      "cell_type": "markdown",
      "source": [
        "4. Join all items in a list into a string, using a hash(#) character as separator:\n",
        "\n",
        "LIST = [\"My\", \"name\", \"is\", \"Rishav\", \"Dash\"]"
      ],
      "metadata": {
        "id": "D9SJ2GPUGbNl"
      }
    },
    {
      "cell_type": "code",
      "source": [
        "LIST = [\"My\", \"name\", \"is\", \"Rishav\", \"Dash\"]\n",
        "print('#'.join(LIST))"
      ],
      "metadata": {
        "colab": {
          "base_uri": "https://localhost:8080/"
        },
        "id": "Pjkhdj-iC-rm",
        "outputId": "7b6d85b7-c730-4335-f1b4-13b950e9e2de"
      },
      "execution_count": 43,
      "outputs": [
        {
          "output_type": "stream",
          "name": "stdout",
          "text": [
            "My#name#is#Rishav#Dash\n"
          ]
        }
      ]
    },
    {
      "cell_type": "markdown",
      "source": [
        "5. Write example for the following string manipulation function,\n",
        "\n",
        "- isdecimal()\n",
        "- islower()\n",
        "- isupper()\n",
        "- isalpha()\n",
        "- isnumeric()\n"
      ],
      "metadata": {
        "id": "pEl1HlM1G4Eu"
      }
    },
    {
      "cell_type": "markdown",
      "source": [
        "Example for isdecimal()"
      ],
      "metadata": {
        "id": "XkfpfiN8KUoU"
      }
    },
    {
      "cell_type": "code",
      "source": [
        "# The string manipulation function \"isdecima()\" finds wheather the given input is a decimal or not.\n",
        "a= \"6798\"\n",
        "b= \"27.54\"\n",
        "print(\"Is 6798 a decimal?\",a.isdecimal())\n",
        "print(\"Is 27.54 a decimal?\",b.isdecimal())\n"
      ],
      "metadata": {
        "colab": {
          "base_uri": "https://localhost:8080/"
        },
        "id": "_rMx1zvBGj4s",
        "outputId": "1eda3c8f-ad3c-41ca-b0f8-6412ceb6ef56"
      },
      "execution_count": 26,
      "outputs": [
        {
          "output_type": "stream",
          "name": "stdout",
          "text": [
            "Is 6798 a decimal? True\n",
            "Is 27.54 a decimal? False\n"
          ]
        }
      ]
    },
    {
      "cell_type": "markdown",
      "source": [
        "Example for islower()"
      ],
      "metadata": {
        "id": "AZzvfBMrKasA"
      }
    },
    {
      "cell_type": "code",
      "source": [
        "# The string manipulation function \"islower()\" finds wheather in the given string all letters are lowarecase.\n",
        "str1=(\"i am an student of ineuron\")\n",
        "str2=(\"I am an student of iNeuron\")\n",
        "print(\"is str1 lowercase?\", str1.islower())\n",
        "print(\"is str2 lowercase?\", str2.islower())"
      ],
      "metadata": {
        "colab": {
          "base_uri": "https://localhost:8080/"
        },
        "id": "kSbY2Ve2IBvA",
        "outputId": "7807f7fa-cd27-4014-876f-7798b61202ed"
      },
      "execution_count": 27,
      "outputs": [
        {
          "output_type": "stream",
          "name": "stdout",
          "text": [
            "is str1 lowercase? True\n",
            "is str2 lowercase? False\n"
          ]
        }
      ]
    },
    {
      "cell_type": "markdown",
      "source": [
        "Example for isupper()"
      ],
      "metadata": {
        "id": "KpiTWH0WLxVF"
      }
    },
    {
      "cell_type": "code",
      "source": [
        "# The string manipulation function \"isupper()\" finds wheather in the given string all letters are uppercase.\n",
        "str3=(\"I AM AN INDIAN\")\n",
        "str4=(\"I am an Indian\")\n",
        "print(\"is str3 have uppercase?\",str3.isupper())\n",
        "print(\"is str4 have uppercase?\",str4.isupper())"
      ],
      "metadata": {
        "colab": {
          "base_uri": "https://localhost:8080/"
        },
        "id": "UiTRhpGnLuu6",
        "outputId": "6dadbe93-6d57-4dfc-9f5a-727264bf15a2"
      },
      "execution_count": 30,
      "outputs": [
        {
          "output_type": "stream",
          "name": "stdout",
          "text": [
            "is str3 have uppercase? True\n",
            "is str4 have uppercase? False\n"
          ]
        }
      ]
    },
    {
      "cell_type": "markdown",
      "source": [
        "Example for isalpha()"
      ],
      "metadata": {
        "id": "j5LBRAc4Mtkh"
      }
    },
    {
      "cell_type": "code",
      "source": [
        "# The string manipulation function \"isalpha()\" finds wheather in the given string have any alphabets.\n",
        "str5=(\"mynameissoandso\")\n",
        "str6=(\"my name is so and so\")\n",
        "print(\"is str5 have all alphabets?\",str5.isalpha())\n",
        "print(\"is str6 have all alphabets?\",str6.isalpha())\n",
        "# Here \" \" is not an alphabet so str6 returns \"False\""
      ],
      "metadata": {
        "colab": {
          "base_uri": "https://localhost:8080/"
        },
        "id": "Cp7f9vXXMdw_",
        "outputId": "3c683ef8-0666-413d-b1d2-4ac3908ccecd"
      },
      "execution_count": 34,
      "outputs": [
        {
          "output_type": "stream",
          "name": "stdout",
          "text": [
            "is str5 have all alphabets? True\n",
            "is str6 have all alphabets? False\n"
          ]
        }
      ]
    },
    {
      "cell_type": "markdown",
      "source": [
        "Example for isnumeric"
      ],
      "metadata": {
        "id": "2fm3iScgMxKI"
      }
    },
    {
      "cell_type": "code",
      "source": [
        "# The string manipulation function \"isnumeric()\" finds wheather in the given string have any integers.\n",
        "str7=(\"09102022\")\n",
        "str8=(\"ninth oct 2022\")\n",
        "print(\"is str7 have integer?\", str7.isnumeric())\n",
        "print(\"is str8 have integer?\", str8.isnumeric())"
      ],
      "metadata": {
        "colab": {
          "base_uri": "https://localhost:8080/"
        },
        "id": "ZqRDPwH1Oa87",
        "outputId": "784c0a4e-431b-4357-87a9-b8cbd6827d1e"
      },
      "execution_count": 37,
      "outputs": [
        {
          "output_type": "stream",
          "name": "stdout",
          "text": [
            "is str7 have integer? True\n",
            "is str8 have integer? False\n"
          ]
        }
      ]
    },
    {
      "cell_type": "markdown",
      "source": [
        "6. Indian PAN card format follows the following formats -\n",
        "\n",
        "AYEPC7894X\n",
        "\n",
        "ABCDE9999Y Take user input for PAN_CARD and validate as per the above example."
      ],
      "metadata": {
        "id": "INfd1TJBPomw"
      }
    },
    {
      "cell_type": "code",
      "source": [
        "pan_card = input(\"Enter PANCARD details: \")\n",
        "if pan_card[:5].isalpha() and pan_card[5:9].isnumeric() and pan_card[9:]:\n",
        "  print(\"Pancard is valid\")\n",
        "else:\n",
        "  print(\"Pancard is invalid\")"
      ],
      "metadata": {
        "colab": {
          "base_uri": "https://localhost:8080/"
        },
        "id": "Ytq5shmnPN_a",
        "outputId": "a9305084-0847-4510-ecde-326271e477b7"
      },
      "execution_count": 53,
      "outputs": [
        {
          "output_type": "stream",
          "name": "stdout",
          "text": [
            "Enter PANCARD details: ABCDE1234YZ\n",
            "Pancard is valid\n"
          ]
        }
      ]
    }
  ]
}